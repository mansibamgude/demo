{
  "nbformat": 4,
  "nbformat_minor": 0,
  "metadata": {
    "colab": {
      "provenance": [],
      "authorship_tag": "ABX9TyPh3kWbRQVAFYmXf3J1PmIl",
      "include_colab_link": true
    },
    "kernelspec": {
      "name": "python3",
      "display_name": "Python 3"
    },
    "language_info": {
      "name": "python"
    }
  },
  "cells": [
    {
      "cell_type": "markdown",
      "metadata": {
        "id": "view-in-github",
        "colab_type": "text"
      },
      "source": [
        "<a href=\"https://colab.research.google.com/github/mansibamgude/demo/blob/main/task_2.ipynb\" target=\"_parent\"><img src=\"https://colab.research.google.com/assets/colab-badge.svg\" alt=\"Open In Colab\"/></a>"
      ]
    },
    {
      "cell_type": "code",
      "source": [
        "import matplotlib.pyplot as plt\n",
        "import matplotlib.patches as patches\n",
        "\n",
        "class Rectangle:\n",
        "    def __init__(self, height, width, color):\n",
        "        self.height = height\n",
        "        self.width = width\n",
        "        self.color = color\n",
        "\n",
        "    def drawRectangle(self):\n",
        "        fig, ax = plt.subplots()\n",
        "        ax.add_patch(patches.Rectangle((0, 0), self.width, self.height, edgecolor='black', facecolor=self.color))\n",
        "        ax.set_xlim(0, self.width + 1)\n",
        "        ax.set_ylim(0, self.height + 1)\n",
        "        plt.gca().set_aspect('equal', adjustable='box')\n",
        "        plt.show()\n",
        "\n",
        "# Create a new object rectangle\n",
        "SkinnyBlueRectangle = Rectangle(2, 10, 'blue')\n",
        "\n",
        "# Print the object attribute height\n",
        "print(SkinnyBlueRectangle.height)\n",
        "\n",
        "# Print the object attribute width\n",
        "print(SkinnyBlueRectangle.width)\n",
        "\n",
        "# Print the object attribute color\n",
        "print(SkinnyBlueRectangle.color)\n",
        "\n",
        "# Use the drawRectangle method to draw the shape\n",
        "SkinnyBlueRectangle.drawRectangle()\n",
        "\n",
        "# Create a new object rectangle\n",
        "FatYellowRectangle = Rectangle(20, 5, 'yellow')\n",
        "\n",
        "# Print the object attribute height\n",
        "print(FatYellowRectangle.height)\n",
        "\n",
        "# Print the object attribute width\n",
        "print(FatYellowRectangle.width)\n",
        "\n",
        "# Print the object attribute color\n",
        "print(FatYellowRectangle.color)\n",
        "\n",
        "# Use the drawRectangle method to draw the shape\n",
        "FatYellowRectangle.drawRectangle()\n"
      ],
      "metadata": {
        "colab": {
          "base_uri": "https://localhost:8080/",
          "height": 718
        },
        "id": "207GKQJ7ylxN",
        "outputId": "4b554e81-ffcd-43cb-e967-979a77f66864"
      },
      "execution_count": null,
      "outputs": [
        {
          "output_type": "stream",
          "name": "stdout",
          "text": [
            "2\n",
            "10\n",
            "blue\n"
          ]
        },
        {
          "output_type": "display_data",
          "data": {
            "text/plain": [
              "<Figure size 640x480 with 1 Axes>"
            ],
            "image/png": "[encoded data removed]"
          },
          "metadata": {}
        },
        {
          "output_type": "stream",
          "name": "stdout",
          "text": [
            "20\n",
            "5\n",
            "yellow\n"
          ]
        },
        {
          "output_type": "display_data",
          "data": {
            "text/plain": [
              "<Figure size 640x480 with 1 Axes>"
            ],
            "image/png": "[encoded data removed]"
          },
          "metadata": {}
        }
      ]
    }
  ]
}