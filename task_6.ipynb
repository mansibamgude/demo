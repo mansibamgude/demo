{
  "nbformat": 4,
  "nbformat_minor": 0,
  "metadata": {
    "colab": {
      "provenance": [],
      "authorship_tag": "ABX9TyMqQRBXio1XRPlMJYr3AXRd",
      "include_colab_link": true
    },
    "kernelspec": {
      "name": "python3",
      "display_name": "Python 3"
    },
    "language_info": {
      "name": "python"
    }
  },
  "cells": [
    {
      "cell_type": "markdown",
      "metadata": {
        "id": "view-in-github",
        "colab_type": "text"
      },
      "source": [
        "<a href=\"https://colab.research.google.com/github/mansibamgude/demo/blob/main/task_6.ipynb\" target=\"_parent\"><img src=\"https://colab.research.google.com/assets/colab-badge.svg\" alt=\"Open In Colab\"/></a>"
      ]
    },
    {
      "cell_type": "markdown",
      "source": [
        "EXERCISE 5.1 Create a Pandas DataFrame from Lists: the elements in the list are 'John', 'Smith', 'Alen', 'Jack' and the name of the list is list1\n"
      ],
      "metadata": {
        "id": "sbNpg8K9R3MN"
      }
    },
    {
      "cell_type": "code",
      "execution_count": null,
      "metadata": {
        "colab": {
          "base_uri": "https://localhost:8080/"
        },
        "id": "o9Orz4qGPzUC",
        "outputId": "cfae0fc8-d820-4aa2-9874-0a52cf678f8a"
      },
      "outputs": [
        {
          "output_type": "stream",
          "name": "stdout",
          "text": [
            "DataFrame:\n",
            "    Names\n",
            "0   John\n",
            "1  Smith\n",
            "2   Alen\n",
            "3   Jack\n"
          ]
        }
      ],
      "source": [
        "import pandas as pd\n",
        "\n",
        "list1 = ['John', 'Smith', 'Alen', 'Jack']\n",
        "df = pd.DataFrame(list1, columns=['Names'])\n",
        "print(\"DataFrame:\\n\", df)\n"
      ]
    },
    {
      "cell_type": "markdown",
      "source": [
        "EXERCISE 5.2 Create Dataframe using list with index and column names where the dataframe name is df and the elements in the list are 'John', 'Smith', ', christian', 'Joseph'"
      ],
      "metadata": {
        "id": "y7jGhHAMSZUY"
      }
    },
    {
      "cell_type": "code",
      "source": [
        "import pandas as pd\n",
        "\n",
        "list1 = ['John', 'Smith', 'Christian', 'Joseph']\n",
        "index_names = ['A', 'B', 'C', 'D']\n",
        "column_name = 'Names'\n",
        "df = pd.DataFrame(list1, columns=[column_name], index=index_names)\n",
        "print(\"DataFrame:\\n\", df)\n"
      ],
      "metadata": {
        "colab": {
          "base_uri": "https://localhost:8080/"
        },
        "id": "uAmTJEpdSa0F",
        "outputId": "5825b1a7-5fd4-4bd4-c506-f6ba5d434c00"
      },
      "execution_count": null,
      "outputs": [
        {
          "output_type": "stream",
          "name": "stdout",
          "text": [
            "DataFrame:\n",
            "        Names\n",
            "A       John\n",
            "B      Smith\n",
            "C  Christian\n",
            "D     Joseph\n"
          ]
        }
      ]
    },
    {
      "cell_type": "markdown",
      "source": [
        "EXERCISE 5.3 Create Dataframe named df using zip() for zipping two lists with 'USA','INDIA', 'CHINA', 'JAPAN', 'ENGLAND' in the 1st list and 11, 22, 33, 44, 55 in the second list and the column name is 'country' and 'label'\n",
        "\n"
      ],
      "metadata": {
        "id": "LG3fDusmScZR"
      }
    },
    {
      "cell_type": "code",
      "source": [
        "import pandas as pd\n",
        "\n",
        "list_countries = ['USA', 'INDIA', 'CHINA', 'JAPAN', 'ENGLAND']\n",
        "list_labels = [11, 22, 33, 44, 55]\n",
        "zipped_list = list(zip(list_countries, list_labels))\n",
        "df = pd.DataFrame(zipped_list, columns=['country', 'label'])\n",
        "print(\"DataFrame:\\n\", df)\n"
      ],
      "metadata": {
        "colab": {
          "base_uri": "https://localhost:8080/"
        },
        "id": "-b21R-IMSc3s",
        "outputId": "95380203-91ef-477d-f8b9-f9429b30b8cd"
      },
      "execution_count": null,
      "outputs": [
        {
          "output_type": "stream",
          "name": "stdout",
          "text": [
            "DataFrame:\n",
            "    country  label\n",
            "0      USA     11\n",
            "1    INDIA     22\n",
            "2    CHINA     33\n",
            "3    JAPAN     44\n",
            "4  ENGLAND     55\n"
          ]
        }
      ]
    },
    {
      "cell_type": "markdown",
      "source": [
        "EXERCISE 5.4 Creating DataFrame using multi-dimensional list"
      ],
      "metadata": {
        "id": "eN5rrRX5SdIk"
      }
    },
    {
      "cell_type": "code",
      "source": [
        "import pandas as pd\n",
        "\n",
        "data = [\n",
        "    ['John', 25, 'USA'],\n",
        "    ['Smith', 30, 'UK'],\n",
        "    ['Alen', 22, 'Canada'],\n",
        "    ['Jack', 28, 'Australia']\n",
        "]\n",
        "columns = ['Name', 'Age', 'Country']\n",
        "df = pd.DataFrame(data, columns=columns)\n",
        "print(\"DataFrame:\\n\", df)\n"
      ],
      "metadata": {
        "colab": {
          "base_uri": "https://localhost:8080/"
        },
        "id": "aBBjrfDaSdaW",
        "outputId": "3116924a-a117-4172-ef80-fc967600629c"
      },
      "execution_count": null,
      "outputs": [
        {
          "output_type": "stream",
          "name": "stdout",
          "text": [
            "DataFrame:\n",
            "     Name  Age    Country\n",
            "0   John   25        USA\n",
            "1  Smith   30         UK\n",
            "2   Alen   22     Canada\n",
            "3   Jack   28  Australia\n"
          ]
        }
      ]
    },
    {
      "cell_type": "markdown",
      "source": [
        "EXECRCISE 5.5 Create a dataframe Using multi-dimensional list with column names as FName , LName and Age and dtype FLOAT."
      ],
      "metadata": {
        "id": "PS17ObdBSdqO"
      }
    },
    {
      "cell_type": "code",
      "source": [
        "import pandas as pd\n",
        "\n",
        "data = [\n",
        "    ['John', 'Doe', 25],\n",
        "    ['Smith', 'Brown', 30],\n",
        "    ['Alen', 'Walker', 22],\n",
        "    ['Jack', 'Daniels', 28]\n",
        "]\n",
        "columns = ['FName', 'LName', 'Age']\n",
        "df = pd.DataFrame(data, columns=columns)\n",
        "df['Age'] = df['Age'].astype(float)\n",
        "print(\"DataFrame:\\n\", df)\n",
        "print(\"\\nData types:\\n\", df.dtypes)\n"
      ],
      "metadata": {
        "colab": {
          "base_uri": "https://localhost:8080/"
        },
        "id": "TTHrKHYxSd6p",
        "outputId": "c2fe81b4-bec2-4711-a388-5428bd2142a5"
      },
      "execution_count": null,
      "outputs": [
        {
          "output_type": "stream",
          "name": "stdout",
          "text": [
            "DataFrame:\n",
            "    FName    LName   Age\n",
            "0   John      Doe  25.0\n",
            "1  Smith    Brown  30.0\n",
            "2   Alen   Walker  22.0\n",
            "3   Jack  Daniels  28.0\n",
            "\n",
            "Data types:\n",
            " FName     object\n",
            "LName     object\n",
            "Age      float64\n",
            "dtype: object\n"
          ]
        }
      ]
    },
    {
      "cell_type": "markdown",
      "source": [
        "EXERCISE 5.6 Create a dataframe using lists in dictionary to create dataframe"
      ],
      "metadata": {
        "id": "4IV_Dq_nSeMF"
      }
    },
    {
      "cell_type": "code",
      "source": [
        "import pandas as pd\n",
        "\n",
        "data = {\n",
        "    'Name': ['Alice', 'Bob', 'Charlie', 'David'],\n",
        "    'Age': [24, 27, 22, 32],\n",
        "    'City': ['New York', 'Los Angeles', 'Chicago', 'Houston']\n",
        "}\n",
        "df = pd.DataFrame(data)\n",
        "print(df)\n"
      ],
      "metadata": {
        "colab": {
          "base_uri": "https://localhost:8080/"
        },
        "id": "DhAEyRdXSeb_",
        "outputId": "23a17efc-7711-491b-874a-252592b99fba"
      },
      "execution_count": null,
      "outputs": [
        {
          "output_type": "stream",
          "name": "stdout",
          "text": [
            "      Name  Age         City\n",
            "0    Alice   24     New York\n",
            "1      Bob   27  Los Angeles\n",
            "2  Charlie   22      Chicago\n",
            "3    David   32      Houston\n"
          ]
        }
      ]
    },
    {
      "cell_type": "markdown",
      "source": [
        "EXERCISE 5.7 Create 2 data dictionary named d1 and d2 and convert them into dataframe named df12 and df21"
      ],
      "metadata": {
        "id": "HkERiF3FShTW"
      }
    },
    {
      "cell_type": "code",
      "source": [
        "import pandas as pd\n",
        "\n",
        "d1 = {\n",
        "    'Name': ['Alice', 'Bob', 'Charlie'],\n",
        "    'Age': [24, 27, 22],\n",
        "    'City': ['New York', 'Los Angeles', 'Chicago']\n",
        "}\n",
        "\n",
        "d2 = {\n",
        "    'Name': ['David', 'Eve', 'Frank'],\n",
        "    'Age': [32, 25, 29],\n",
        "    'City': ['Houston', 'Miami', 'Seattle']\n",
        "}\n",
        "df12 = pd.DataFrame(d1)\n",
        "df21 = pd.DataFrame(d2)\n",
        "print(\"df12:\")\n",
        "print(df12)\n",
        "print(\"\\ndf21:\")\n",
        "print(df21)\n"
      ],
      "metadata": {
        "colab": {
          "base_uri": "https://localhost:8080/"
        },
        "id": "TZMQRa7HSho6",
        "outputId": "0fd2dd3a-865f-431c-d900-89dec9a72a10"
      },
      "execution_count": null,
      "outputs": [
        {
          "output_type": "stream",
          "name": "stdout",
          "text": [
            "df12:\n",
            "      Name  Age         City\n",
            "0    Alice   24     New York\n",
            "1      Bob   27  Los Angeles\n",
            "2  Charlie   22      Chicago\n",
            "\n",
            "df21:\n",
            "    Name  Age     City\n",
            "0  David   32  Houston\n",
            "1    Eve   25    Miami\n",
            "2  Frank   29  Seattle\n"
          ]
        }
      ]
    },
    {
      "cell_type": "markdown",
      "source": [
        "EXERCISE 5.8 Concatenate the data frames created above"
      ],
      "metadata": {
        "id": "1_YPKSd3SiA2"
      }
    },
    {
      "cell_type": "code",
      "source": [
        "import pandas as pd\n",
        "\n",
        "d1 = {\n",
        "    'Name': ['Alice', 'Bob', 'Charlie'],\n",
        "    'Age': [24, 27, 22],\n",
        "    'City': ['New York', 'Los Angeles', 'Chicago']\n",
        "}\n",
        "\n",
        "d2 = {\n",
        "    'Name': ['David', 'Eve', 'Frank'],\n",
        "    'Age': [32, 25, 29],\n",
        "    'City': ['Houston', 'Miami', 'Seattle']\n",
        "}\n",
        "\n",
        "df12 = pd.DataFrame(d1)\n",
        "df21 = pd.DataFrame(d2)\n",
        "\n",
        "concatenated_df = pd.concat([df12, df21], ignore_index=True)\n",
        "\n",
        "print(concatenated_df)\n"
      ],
      "metadata": {
        "colab": {
          "base_uri": "https://localhost:8080/"
        },
        "id": "hXUkP4AjSice",
        "outputId": "76f92741-add2-4bce-998e-bbeb4bb22069"
      },
      "execution_count": null,
      "outputs": [
        {
          "output_type": "stream",
          "name": "stdout",
          "text": [
            "      Name  Age         City\n",
            "0    Alice   24     New York\n",
            "1      Bob   27  Los Angeles\n",
            "2  Charlie   22      Chicago\n",
            "3    David   32      Houston\n",
            "4      Eve   25        Miami\n",
            "5    Frank   29      Seattle\n",
            "      Name  Age         City\n",
            "0    Alice   24     New York\n",
            "1      Bob   27  Los Angeles\n",
            "2  Charlie   22      Chicago\n",
            "3    David   32      Houston\n",
            "4      Eve   25        Miami\n",
            "5    Frank   29      Seattle\n"
          ]
        }
      ]
    },
    {
      "cell_type": "markdown",
      "source": [
        "*EXERCISE 5.9 * Create two dataframes for student details with the attributes ADDRESS AGE MOBILE NO NAME QUALIFICATION with any random values from the dictionary."
      ],
      "metadata": {
        "id": "-Z9zrG_lSi1u"
      }
    },
    {
      "cell_type": "code",
      "source": [
        "import pandas as pd\n",
        "\n",
        "data1 = {\n",
        "    'NAME': ['Alice', 'Bob', 'Charlie'],\n",
        "    'AGE': [20, 22, 21],\n",
        "    'ADDRESS': ['123 Main St', '456 Elm St', '789 Oak St'],\n",
        "    'MOBILE NO': ['111-111-1111', '222-222-2222', '333-333-3333'],\n",
        "    'QUALIFICATION': ['Bachelor', 'Master', 'PhD']\n",
        "}\n",
        "\n",
        "data2 = {\n",
        "    'NAME': ['David', 'Eve', 'Frank'],\n",
        "    'AGE': [23, 24, 25],\n",
        "    'ADDRESS': ['321 Pine St', '654 Cedar St', '987 Maple St'],\n",
        "    'MOBILE NO': ['444-444-4444', '555-555-5555', '666-666-6666'],\n",
        "    'QUALIFICATION': ['Master', 'Bachelor', 'Bachelor']\n",
        "}\n",
        "\n",
        "df1 = pd.DataFrame(data1)\n",
        "df2 = pd.DataFrame(data2)\n",
        "\n",
        "print(\"DataFrame 1:\")\n",
        "print(df1)\n",
        "print(\"\\nDataFrame 2:\")\n",
        "print(df2)\n"
      ],
      "metadata": {
        "colab": {
          "base_uri": "https://localhost:8080/"
        },
        "id": "dv_NbBCRSjRS",
        "outputId": "8c935806-6319-46d5-ef6c-9e4842b407ca"
      },
      "execution_count": null,
      "outputs": [
        {
          "output_type": "stream",
          "name": "stdout",
          "text": [
            "DataFrame 1:\n",
            "      NAME  AGE      ADDRESS     MOBILE NO QUALIFICATION\n",
            "0    Alice   20  123 Main St  111-111-1111      Bachelor\n",
            "1      Bob   22   456 Elm St  222-222-2222        Master\n",
            "2  Charlie   21   789 Oak St  333-333-3333           PhD\n",
            "\n",
            "DataFrame 2:\n",
            "    NAME  AGE       ADDRESS     MOBILE NO QUALIFICATION\n",
            "0  David   23   321 Pine St  444-444-4444        Master\n",
            "1    Eve   24  654 Cedar St  555-555-5555      Bachelor\n",
            "2  Frank   25  987 Maple St  666-666-6666      Bachelor\n"
          ]
        }
      ]
    },
    {
      "cell_type": "markdown",
      "source": [
        "EXERCISE 5.10 Now concatenate the above dataframes by seting the attribue join to inner\n",
        "\n"
      ],
      "metadata": {
        "id": "m7vwwe4OTGYn"
      }
    },
    {
      "cell_type": "code",
      "source": [
        "import pandas as pd\n",
        "\n",
        "data1 = {\n",
        "    'NAME': ['Alice', 'Bob', 'Charlie'],\n",
        "    'AGE': [20, 22, 21],\n",
        "    'ADDRESS': ['123 Main St', '456 Elm St', '789 Oak St'],\n",
        "    'MOBILE NO': ['111-111-1111', '222-222-2222', '333-333-3333'],\n",
        "    'QUALIFICATION': ['Bachelor', 'Master', 'PhD']\n",
        "}\n",
        "\n",
        "data2 = {\n",
        "    'NAME': ['David', 'Eve', 'Frank'],\n",
        "    'AGE': [23, 24, 25],\n",
        "    'ADDRESS': ['321 Pine St', '654 Cedar St', '987 Maple St'],\n",
        "    'MOBILE NO': ['444-444-4444', '555-555-5555', '666-666-6666'],\n",
        "    'QUALIFICATION': ['Master', 'Bachelor', 'Bachelor']\n",
        "}\n",
        "\n",
        "df1 = pd.DataFrame(data1)\n",
        "df2 = pd.DataFrame(data2)\n",
        "\n",
        "concatenated_df = pd.concat([df1, df2], join='inner')\n",
        "\n",
        "print(\"Concatenated DataFrame with inner join:\")\n",
        "print(concatenated_df)\n"
      ],
      "metadata": {
        "colab": {
          "base_uri": "https://localhost:8080/"
        },
        "id": "4OH-8LJzTGvp",
        "outputId": "eb40cef4-5b1c-45e3-ace6-e0e9746ac031"
      },
      "execution_count": null,
      "outputs": [
        {
          "output_type": "stream",
          "name": "stdout",
          "text": [
            "Concatenated DataFrame with inner join:\n",
            "      NAME  AGE       ADDRESS     MOBILE NO QUALIFICATION\n",
            "0    Alice   20   123 Main St  111-111-1111      Bachelor\n",
            "1      Bob   22    456 Elm St  222-222-2222        Master\n",
            "2  Charlie   21    789 Oak St  333-333-3333           PhD\n",
            "0    David   23   321 Pine St  444-444-4444        Master\n",
            "1      Eve   24  654 Cedar St  555-555-5555      Bachelor\n",
            "2    Frank   25  987 Maple St  666-666-6666      Bachelor\n"
          ]
        }
      ]
    },
    {
      "cell_type": "markdown",
      "source": [
        "EXERCISE 5.11 Now concate the above dataframes that you have created using outer join"
      ],
      "metadata": {
        "id": "Mh63RQyoVUAM"
      }
    },
    {
      "cell_type": "code",
      "source": [
        "import pandas as pd\n",
        "\n",
        "data1 = {\n",
        "    'NAME': ['Alice', 'Bob', 'Charlie'],\n",
        "    'AGE': [20, 22, 21],\n",
        "    'ADDRESS': ['123 Main St', '456 Elm St', '789 Oak St'],\n",
        "    'MOBILE NO': ['111-111-1111', '222-222-2222', '333-333-3333'],\n",
        "    'QUALIFICATION': ['Bachelor', 'Master', 'PhD']\n",
        "}\n",
        "\n",
        "data2 = {\n",
        "    'NAME': ['David', 'Eve', 'Frank'],\n",
        "    'AGE': [23, 24, 25],\n",
        "    'ADDRESS': ['321 Pine St', '654 Cedar St', '987 Maple St'],\n",
        "    'MOBILE NO': ['444-444-4444', '555-555-5555', '666-666-6666'],\n",
        "    'QUALIFICATION': ['Master', 'Bachelor', 'Bachelor']\n",
        "}\n",
        "df1 = pd.DataFrame(data1)\n",
        "df2 = pd.DataFrame(data2)\n",
        "concatenated_df = pd.concat([df1, df2], join='outer')\n",
        "print(\"Concatenated DataFrame with outer join:\")\n",
        "print(concatenated_df)\n"
      ],
      "metadata": {
        "colab": {
          "base_uri": "https://localhost:8080/"
        },
        "id": "rGiSvjhwVVVX",
        "outputId": "bbe83ae9-eeb3-4e53-8978-582214283690"
      },
      "execution_count": null,
      "outputs": [
        {
          "output_type": "stream",
          "name": "stdout",
          "text": [
            "Concatenated DataFrame with outer join:\n",
            "      NAME  AGE       ADDRESS     MOBILE NO QUALIFICATION\n",
            "0    Alice   20   123 Main St  111-111-1111      Bachelor\n",
            "1      Bob   22    456 Elm St  222-222-2222        Master\n",
            "2  Charlie   21    789 Oak St  333-333-3333           PhD\n",
            "0    David   23   321 Pine St  444-444-4444        Master\n",
            "1      Eve   24  654 Cedar St  555-555-5555      Bachelor\n",
            "2    Frank   25  987 Maple St  666-666-6666      Bachelor\n"
          ]
        }
      ]
    },
    {
      "cell_type": "markdown",
      "source": [
        "EXERCISE 5.11 Now concatenate the dataframe by specifying the join_axes using variable res4"
      ],
      "metadata": {
        "id": "Q59V8TG_VV0k"
      }
    },
    {
      "cell_type": "code",
      "source": [
        "import pandas as pd\n",
        "\n",
        "data1 = {\n",
        "    'NAME': ['Alice', 'Bob', 'Charlie'],\n",
        "    'AGE': [20, 22, 21],\n",
        "    'ADDRESS': ['123 Main St', '456 Elm St', '789 Oak St'],\n",
        "    'MOBILE NO': ['111-111-1111', '222-222-2222', '333-333-3333'],\n",
        "    'QUALIFICATION': ['Bachelor', 'Master', 'PhD']\n",
        "}\n",
        "\n",
        "data2 = {\n",
        "    'NAME': ['David', 'Eve', 'Frank'],\n",
        "    'AGE': [23, 24, 25],\n",
        "    'ADDRESS': ['321 Pine St', '654 Cedar St', '987 Maple St'],\n",
        "    'MOBILE NO': ['444-444-4444', '555-555-5555', '666-666-6666'],\n",
        "    'QUALIFICATION': ['Master', 'Bachelor', 'Bachelor']\n",
        "}\n",
        "\n",
        "df1 = pd.DataFrame(data1)\n",
        "df2 = pd.DataFrame(data2)\n",
        "\n",
        "res4 = df1.columns\n",
        "\n",
        "concatenated_df = pd.concat([df1, df2], join='outer').reindex(columns=res4)\n",
        "\n",
        "print(\"Concatenated DataFrame with join_axes specified using res4:\")\n",
        "print(concatenated_df)\n"
      ],
      "metadata": {
        "colab": {
          "base_uri": "https://localhost:8080/"
        },
        "id": "DNdmCGyvVWHD",
        "outputId": "3337be51-89f4-4333-f543-4742f37a584e"
      },
      "execution_count": null,
      "outputs": [
        {
          "output_type": "stream",
          "name": "stdout",
          "text": [
            "Concatenated DataFrame with join_axes specified using res4:\n",
            "      NAME  AGE       ADDRESS     MOBILE NO QUALIFICATION\n",
            "0    Alice   20   123 Main St  111-111-1111      Bachelor\n",
            "1      Bob   22    456 Elm St  222-222-2222        Master\n",
            "2  Charlie   21    789 Oak St  333-333-3333           PhD\n",
            "0    David   23   321 Pine St  444-444-4444        Master\n",
            "1      Eve   24  654 Cedar St  555-555-5555      Bachelor\n",
            "2    Frank   25  987 Maple St  666-666-6666      Bachelor\n"
          ]
        }
      ]
    },
    {
      "cell_type": "markdown",
      "source": [
        "EXERCISE 5.12 Create two dataframes d1 and d2 for a college with attributes as college name, dept_name,no_staff,intake and concatenate them using append() and store it in variable named res"
      ],
      "metadata": {
        "id": "aiBsBDNFVWZR"
      }
    },
    {
      "cell_type": "code",
      "source": [
        "import pandas as pd\n",
        "\n",
        "data1 = {\n",
        "    'college_name': ['College A', 'College B', 'College C'],\n",
        "    'dept_name': ['Dept 1', 'Dept 2', 'Dept 3'],\n",
        "    'no_staff': [10, 15, 20],\n",
        "    'intake': [100, 150, 200]\n",
        "}\n",
        "\n",
        "data2 = {\n",
        "    'college_name': ['College D', 'College E', 'College F'],\n",
        "    'dept_name': ['Dept 4', 'Dept 5', 'Dept 6'],\n",
        "    'no_staff': [12, 18, 25],\n",
        "    'intake': [120, 180, 250]\n",
        "}\n",
        "\n",
        "d1 = pd.DataFrame(data1)\n",
        "d2 = pd.DataFrame(data2)\n",
        "\n",
        "res = pd.concat([d1, d2], ignore_index=True)\n",
        "print(\"Concatenated DataFrame using append:\")\n",
        "print(res)\n",
        "\n"
      ],
      "metadata": {
        "colab": {
          "base_uri": "https://localhost:8080/"
        },
        "id": "W451xdNGVWqb",
        "outputId": "5d2886f4-0921-4435-e045-18360178a242"
      },
      "execution_count": null,
      "outputs": [
        {
          "output_type": "stream",
          "name": "stdout",
          "text": [
            "Concatenated DataFrame using append:\n",
            "  college_name dept_name  no_staff  intake\n",
            "0    College A    Dept 1        10     100\n",
            "1    College B    Dept 2        15     150\n",
            "2    College C    Dept 3        20     200\n",
            "3    College D    Dept 4        12     120\n",
            "4    College E    Dept 5        18     180\n",
            "5    College F    Dept 6        25     250\n"
          ]
        }
      ]
    },
    {
      "cell_type": "markdown",
      "source": [
        "EXERCISE 5.13 Now concatenate the two data frames obtained in the above exercises by using ignoreindex and store in variable res"
      ],
      "metadata": {
        "id": "EIWIC18rVW7t"
      }
    },
    {
      "cell_type": "code",
      "source": [
        "import pandas as pd\n",
        "\n",
        "data1 = {\n",
        "    'college_name': ['College A', 'College B', 'College C'],\n",
        "    'dept_name': ['Dept 1', 'Dept 2', 'Dept 3'],\n",
        "    'no_staff': [10, 15, 20],\n",
        "    'intake': [100, 150, 200]\n",
        "}\n",
        "\n",
        "data2 = {\n",
        "    'college_name': ['College D', 'College E', 'College F'],\n",
        "    'dept_name': ['Dept 4', 'Dept 5', 'Dept 6'],\n",
        "    'no_staff': [12, 18, 25],\n",
        "    'intake': [120, 180, 250]\n",
        "}\n",
        "\n",
        "d1 = pd.DataFrame(data1)\n",
        "d2 = pd.DataFrame(data2)\n",
        "res = pd.concat([d1, d2], ignore_index=True)\n",
        "print(\"Concatenated DataFrame with ignore_index:\")\n",
        "print(res)\n"
      ],
      "metadata": {
        "colab": {
          "base_uri": "https://localhost:8080/"
        },
        "id": "ItPaT6PeVXKu",
        "outputId": "19248946-efa1-45f6-8968-06af7b47bec7"
      },
      "execution_count": null,
      "outputs": [
        {
          "output_type": "stream",
          "name": "stdout",
          "text": [
            "Concatenated DataFrame with ignore_index:\n",
            "  college_name dept_name  no_staff  intake\n",
            "0    College A    Dept 1        10     100\n",
            "1    College B    Dept 2        15     150\n",
            "2    College C    Dept 3        20     200\n",
            "3    College D    Dept 4        12     120\n",
            "4    College E    Dept 5        18     180\n",
            "5    College F    Dept 6        25     250\n"
          ]
        }
      ]
    },
    {
      "cell_type": "markdown",
      "source": [
        "EXRCISE 5.14 Concatenate dataframes created above with group keys"
      ],
      "metadata": {
        "id": "ZJ8jwteCVXa4"
      }
    },
    {
      "cell_type": "code",
      "source": [
        "import pandas as pd\n",
        "\n",
        "data1 = {\n",
        "    'college_name': ['College A', 'College B', 'College C'],\n",
        "    'dept_name': ['Dept 1', 'Dept 2', 'Dept 3'],\n",
        "    'no_staff': [10, 15, 20],\n",
        "    'intake': [100, 150, 200]\n",
        "}\n",
        "\n",
        "data2 = {\n",
        "    'college_name': ['College D', 'College E', 'College F'],\n",
        "    'dept_name': ['Dept 4', 'Dept 5', 'Dept 6'],\n",
        "    'no_staff': [12, 18, 25],\n",
        "    'intake': [120, 180, 250]\n",
        "}\n",
        "\n",
        "d1 = pd.DataFrame(data1)\n",
        "d2 = pd.DataFrame(data2)\n",
        "res = pd.concat([d1, d2], keys=['Group1', 'Group2'])\n",
        "print(\"Concatenated DataFrame with group keys:\")\n",
        "print(res)\n"
      ],
      "metadata": {
        "colab": {
          "base_uri": "https://localhost:8080/"
        },
        "id": "Zj4HN3RyVXr3",
        "outputId": "d4743108-61c1-491d-fcc7-49b884eae18a"
      },
      "execution_count": null,
      "outputs": [
        {
          "output_type": "stream",
          "name": "stdout",
          "text": [
            "Concatenated DataFrame with group keys:\n",
            "         college_name dept_name  no_staff  intake\n",
            "Group1 0    College A    Dept 1        10     100\n",
            "       1    College B    Dept 2        15     150\n",
            "       2    College C    Dept 3        20     200\n",
            "Group2 0    College D    Dept 4        12     120\n",
            "       1    College E    Dept 5        18     180\n",
            "       2    College F    Dept 6        25     250\n"
          ]
        }
      ]
    },
    {
      "cell_type": "markdown",
      "source": [
        "EXERCISE 5.15 Create 2 dataframes 'df','df1','df2' with attributes 'subject_id' 'last_name' and 'first_name' and 3rd dataframe of name raw_data with attributes 'subject_id' and 'last_id' with labels 0,1,2,3,4"
      ],
      "metadata": {
        "id": "Y-FwpC0hVX7M"
      }
    },
    {
      "cell_type": "code",
      "source": [
        "import pandas as pd\n",
        "\n",
        "data_df = {\n",
        "    'subject_id': ['1', '2', '3', '4', '5'],\n",
        "    'first_name': ['Alex', 'Amy', 'Allen', 'Alice', 'Ayoung'],\n",
        "    'last_name': ['Anderson', 'Ackerman', 'Ali', 'Aoni', 'Atiches']\n",
        "}\n",
        "\n",
        "data_df1 = {\n",
        "    'subject_id': ['4', '5', '6', '7', '8'],\n",
        "    'first_name': ['Billy', 'Brian', 'Bran', 'Bryce', 'Betty'],\n",
        "    'last_name': ['Bonder', 'Black', 'Balwner', 'Brice', 'Btisan']\n",
        "}\n",
        "\n",
        "data_df2 = {\n",
        "    'subject_id': ['1', '2', '3', '4', '5'],\n",
        "    'first_name': ['Alex', 'Amy', 'Allen', 'Alice', 'Ayoung'],\n",
        "    'last_name': ['Anderson', 'Ackerman', 'Ali', 'Aoni', 'Atiches']\n",
        "}\n",
        "\n",
        "data_raw = {\n",
        "    'subject_id': ['1', '2', '3', '4', '5'],\n",
        "    'last_id': [1, 2, 3, 4, 5]\n",
        "}\n",
        "\n",
        "df = pd.DataFrame(data_df)\n",
        "df1 = pd.DataFrame(data_df1)\n",
        "df2 = pd.DataFrame(data_df2)\n",
        "raw_data = pd.DataFrame(data_raw, index=[0, 1, 2, 3, 4])\n",
        "\n",
        "print(\"DataFrame df:\")\n",
        "print(df)\n",
        "print(\"\\nDataFrame df1:\")\n",
        "print(df1)\n",
        "print(\"\\nDataFrame df2:\")\n",
        "print(df2)\n",
        "print(\"\\nDataFrame raw_data:\")\n",
        "print(raw_data)\n"
      ],
      "metadata": {
        "colab": {
          "base_uri": "https://localhost:8080/"
        },
        "id": "IdCt2-bVVYLJ",
        "outputId": "8aa51047-fd88-4e8d-aa62-39bf0ca584e9"
      },
      "execution_count": null,
      "outputs": [
        {
          "output_type": "stream",
          "name": "stdout",
          "text": [
            "DataFrame df:\n",
            "  subject_id first_name last_name\n",
            "0          1       Alex  Anderson\n",
            "1          2        Amy  Ackerman\n",
            "2          3      Allen       Ali\n",
            "3          4      Alice      Aoni\n",
            "4          5     Ayoung   Atiches\n",
            "\n",
            "DataFrame df1:\n",
            "  subject_id first_name last_name\n",
            "0          4      Billy    Bonder\n",
            "1          5      Brian     Black\n",
            "2          6       Bran   Balwner\n",
            "3          7      Bryce     Brice\n",
            "4          8      Betty    Btisan\n",
            "\n",
            "DataFrame df2:\n",
            "  subject_id first_name last_name\n",
            "0          1       Alex  Anderson\n",
            "1          2        Amy  Ackerman\n",
            "2          3      Allen       Ali\n",
            "3          4      Alice      Aoni\n",
            "4          5     Ayoung   Atiches\n",
            "\n",
            "DataFrame raw_data:\n",
            "  subject_id  last_id\n",
            "0          1        1\n",
            "1          2        2\n",
            "2          3        3\n",
            "3          4        4\n",
            "4          5        5\n"
          ]
        }
      ]
    },
    {
      "cell_type": "markdown",
      "source": [
        "EXERCISE 5.16 Merge the 2 dataframes along rows in df_new"
      ],
      "metadata": {
        "id": "pRMQmOskVYeo"
      }
    },
    {
      "cell_type": "code",
      "source": [
        "import pandas as pd\n",
        "\n",
        "data_df = {\n",
        "    'subject_id': ['1', '2', '3', '4', '5'],\n",
        "    'first_name': ['Alex', 'Amy', 'Allen', 'Alice', 'Ayoung'],\n",
        "    'last_name': ['Anderson', 'Ackerman', 'Ali', 'Aoni', 'Atiches']\n",
        "}\n",
        "\n",
        "data_df1 = {\n",
        "    'subject_id': ['4', '5', '6', '7', '8'],\n",
        "    'first_name': ['Billy', 'Brian', 'Bran', 'Bryce', 'Betty'],\n",
        "    'last_name': ['Bonder', 'Black', 'Balwner', 'Brice', 'Btisan']\n",
        "}\n",
        "\n",
        "df = pd.DataFrame(data_df)\n",
        "df1 = pd.DataFrame(data_df1)\n",
        "\n",
        "df_new = pd.concat([df, df1], axis=0, ignore_index=True)\n",
        "\n",
        "print(\"Merged DataFrame along rows (df_new):\")\n",
        "print(df_new)\n"
      ],
      "metadata": {
        "colab": {
          "base_uri": "https://localhost:8080/"
        },
        "id": "HTFJH6UZVYvG",
        "outputId": "1e87b9f9-4410-4490-a033-5cc44651c48a"
      },
      "execution_count": null,
      "outputs": [
        {
          "output_type": "stream",
          "name": "stdout",
          "text": [
            "Merged DataFrame along rows (df_new):\n",
            "  subject_id first_name last_name\n",
            "0          1       Alex  Anderson\n",
            "1          2        Amy  Ackerman\n",
            "2          3      Allen       Ali\n",
            "3          4      Alice      Aoni\n",
            "4          5     Ayoung   Atiches\n",
            "5          4      Billy    Bonder\n",
            "6          5      Brian     Black\n",
            "7          6       Bran   Balwner\n",
            "8          7      Bryce     Brice\n",
            "9          8      Betty    Btisan\n"
          ]
        }
      ]
    },
    {
      "cell_type": "markdown",
      "source": [
        "EXERCISE 5.17 Merge the two dataframes df1 and df2 alon columns"
      ],
      "metadata": {
        "id": "bPYdvi6dVY_c"
      }
    },
    {
      "cell_type": "code",
      "source": [
        "import pandas as pd\n",
        "\n",
        "data_df1 = {\n",
        "    'subject_id': ['4', '5', '6', '7', '8'],\n",
        "    'first_name': ['Billy', 'Brian', 'Bran', 'Bryce', 'Betty'],\n",
        "    'last_name': ['Bonder', 'Black', 'Balwner', 'Brice', 'Btisan']\n",
        "}\n",
        "\n",
        "data_df2 = {\n",
        "    'subject_id': ['1', '2', '3', '4', '5'],\n",
        "    'first_name': ['Alex', 'Amy', 'Allen', 'Alice', 'Ayoung'],\n",
        "    'last_name': ['Anderson', 'Ackerman', 'Ali', 'Aoni', 'Atiches']\n",
        "}\n",
        "\n",
        "df1 = pd.DataFrame(data_df1)\n",
        "df2 = pd.DataFrame(data_df2)\n",
        "\n",
        "df_new_columns = pd.concat([df1, df2], axis=1)\n",
        "\n",
        "print(\"Merged DataFrame along columns (df_new_columns):\")\n",
        "print(df_new_columns)\n"
      ],
      "metadata": {
        "colab": {
          "base_uri": "https://localhost:8080/"
        },
        "id": "iSNVBAodVZP7",
        "outputId": "6b4a1a39-5b8a-4029-d737-1c9fda1455b0"
      },
      "execution_count": null,
      "outputs": [
        {
          "output_type": "stream",
          "name": "stdout",
          "text": [
            "Merged DataFrame along columns (df_new_columns):\n",
            "  subject_id first_name last_name subject_id first_name last_name\n",
            "0          4      Billy    Bonder          1       Alex  Anderson\n",
            "1          5      Brian     Black          2        Amy  Ackerman\n",
            "2          6       Bran   Balwner          3      Allen       Ali\n",
            "3          7      Bryce     Brice          4      Alice      Aoni\n",
            "4          8      Betty    Btisan          5     Ayoung   Atiches\n"
          ]
        }
      ]
    },
    {
      "cell_type": "markdown",
      "source": [
        "EXERCISE 5.18 Merg new dataframe created with df3 along subject_id value"
      ],
      "metadata": {
        "id": "BwDbD7NlVZh1"
      }
    },
    {
      "cell_type": "code",
      "source": [
        "import pandas as pd\n",
        "\n",
        "data_df1 = {\n",
        "    'subject_id': ['4', '5', '6', '7', '8'],\n",
        "    'first_name': ['Billy', 'Brian', 'Bran', 'Bryce', 'Betty'],\n",
        "    'last_name': ['Bonder', 'Black', 'Balwner', 'Brice', 'Btisan']\n",
        "}\n",
        "\n",
        "data_df2 = {\n",
        "    'subject_id': ['1', '2', '3', '4', '5'],\n",
        "    'first_name': ['Alex', 'Amy', 'Allen', 'Alice', 'Ayoung'],\n",
        "    'last_name': ['Anderson', 'Ackerman', 'Ali', 'Aoni', 'Atiches']\n",
        "}\n",
        "\n",
        "df1 = pd.DataFrame(data_df1)\n",
        "df2 = pd.DataFrame(data_df2)\n",
        "# Concatenate along rows to avoid duplicate 'subject_id' columns\n",
        "df_new_rows = pd.concat([df1, df2], axis=0)\n",
        "data_df3 = {\n",
        "    'subject_id': ['1', '2', '3', '4', '5', '6', '7'],\n",
        "    'score': [88, 92, 95, 70, 89, 92, 85]\n",
        "}\n",
        "\n",
        "df3 = pd.DataFrame(data_df3)\n",
        "# Now merge the dataframes on 'subject_id'\n",
        "merged_df = pd.merge(df_new_rows, df3, on='subject_id')\n",
        "print(\"Merged DataFrame along subject_id (merged_df):\")\n",
        "print(merged_df)"
      ],
      "metadata": {
        "colab": {
          "base_uri": "https://localhost:8080/"
        },
        "id": "T6GS-I5FVZxv",
        "outputId": "3f33e89f-8687-4f1d-9330-7f80dcb51b47"
      },
      "execution_count": null,
      "outputs": [
        {
          "output_type": "stream",
          "name": "stdout",
          "text": [
            "Merged DataFrame along subject_id (merged_df):\n",
            "  subject_id first_name last_name  score\n",
            "0          4      Billy    Bonder     70\n",
            "1          4      Alice      Aoni     70\n",
            "2          5      Brian     Black     89\n",
            "3          5     Ayoung   Atiches     89\n",
            "4          6       Bran   Balwner     92\n",
            "5          7      Bryce     Brice     85\n",
            "6          1       Alex  Anderson     88\n",
            "7          2        Amy  Ackerman     92\n",
            "8          3      Allen       Ali     95\n"
          ]
        }
      ]
    },
    {
      "cell_type": "markdown",
      "source": [
        "EXERCISE 5.19 Merge two dataframes with both the left and right dataframes using the subject_id key"
      ],
      "metadata": {
        "id": "yJ2BTVMpWBJt"
      }
    },
    {
      "cell_type": "code",
      "source": [
        "import pandas as pd\n",
        "\n",
        "data_df1 = {\n",
        "    'subject_id': ['1', '2', '3', '4', '5'],\n",
        "    'first_name': ['Alex', 'Amy', 'Allen', 'Alice', 'Ayoung'],\n",
        "    'last_name': ['Anderson', 'Ackerman', 'Ali', 'Aoni', 'Atiches']\n",
        "}\n",
        "\n",
        "data_df2 = {\n",
        "    'subject_id': ['4', '5', '6', '7', '8'],\n",
        "    'first_name': ['Billy', 'Brian', 'Bran', 'Bryce', 'Betty'],\n",
        "    'last_name': ['Bonder', 'Black', 'Balwner', 'Brice', 'Btisan']\n",
        "}\n",
        "\n",
        "df1 = pd.DataFrame(data_df1)\n",
        "df2 = pd.DataFrame(data_df2)\n",
        "merged_df = pd.merge(df1, df2, on='subject_id', suffixes=('_left', '_right'))\n",
        "print(\"Merged DataFrame using subject_id as key (merged_df):\")\n",
        "print(merged_df)\n"
      ],
      "metadata": {
        "colab": {
          "base_uri": "https://localhost:8080/"
        },
        "id": "ipb76HyKWBoF",
        "outputId": "035e089e-f4ac-43cf-9993-60a3eafd640a"
      },
      "execution_count": null,
      "outputs": [
        {
          "output_type": "stream",
          "name": "stdout",
          "text": [
            "Merged DataFrame using subject_id as key (merged_df):\n",
            "  subject_id first_name_left last_name_left first_name_right last_name_right\n",
            "0          4           Alice           Aoni            Billy          Bonder\n",
            "1          5          Ayoung        Atiches            Brian           Black\n"
          ]
        }
      ]
    },
    {
      "cell_type": "markdown",
      "source": [
        "EXERCISE 5.20 Merge dataframe df1 and df2 with outer join ON subject_id"
      ],
      "metadata": {
        "id": "Z4RX9UaGWCEC"
      }
    },
    {
      "cell_type": "code",
      "source": [
        "import pandas as pd\n",
        "data_df1 = {\n",
        "    'subject_id': ['1', '2', '3', '4', '5'],\n",
        "    'first_name': ['Alex', 'Amy', 'Allen', 'Alice', 'Ayoung'],\n",
        "    'last_name': ['Anderson', 'Ackerman', 'Ali', 'Aoni', 'Atiches']\n",
        "}\n",
        "\n",
        "data_df2 = {\n",
        "    'subject_id': ['4', '5', '6', '7', '8'],\n",
        "    'first_name': ['Billy', 'Brian', 'Bran', 'Bryce', 'Betty'],\n",
        "    'last_name': ['Bonder', 'Black', 'Balwner', 'Brice', 'Btisan']\n",
        "}\n",
        "\n",
        "df1 = pd.DataFrame(data_df1)\n",
        "df2 = pd.DataFrame(data_df2)\n",
        "merged_df = pd.merge(df1, df2, on='subject_id', how='outer', suffixes=('_df1', '_df2'))\n",
        "print(\"Merged DataFrame using outer join on subject_id (merged_df):\")\n",
        "print(merged_df)\n"
      ],
      "metadata": {
        "colab": {
          "base_uri": "https://localhost:8080/"
        },
        "id": "22m4Qhq8WCWF",
        "outputId": "a31e525e-6cbd-4617-ed10-a45d583ccf87"
      },
      "execution_count": null,
      "outputs": [
        {
          "output_type": "stream",
          "name": "stdout",
          "text": [
            "Merged DataFrame using outer join on subject_id (merged_df):\n",
            "  subject_id first_name_df1 last_name_df1 first_name_df2 last_name_df2\n",
            "0          1           Alex      Anderson            NaN           NaN\n",
            "1          2            Amy      Ackerman            NaN           NaN\n",
            "2          3          Allen           Ali            NaN           NaN\n",
            "3          4          Alice          Aoni          Billy        Bonder\n",
            "4          5         Ayoung       Atiches          Brian         Black\n",
            "5          6            NaN           NaN           Bran       Balwner\n",
            "6          7            NaN           NaN          Bryce         Brice\n",
            "7          8            NaN           NaN          Betty        Btisan\n"
          ]
        }
      ]
    },
    {
      "cell_type": "markdown",
      "source": [
        "EXERCISE 5.21 Merge dataframe df1 and df2 with right join on subject_id"
      ],
      "metadata": {
        "id": "K3SOhxidWCqI"
      }
    },
    {
      "cell_type": "code",
      "source": [
        "import pandas as pd\n",
        "\n",
        "data_df1 = {\n",
        "    'subject_id': ['1', '2', '3', '4', '5'],\n",
        "    'first_name': ['Alex', 'Amy', 'Allen', 'Alice', 'Ayoung'],\n",
        "    'last_name': ['Anderson', 'Ackerman', 'Ali', 'Aoni', 'Atiches']\n",
        "}\n",
        "\n",
        "data_df2 = {\n",
        "    'subject_id': ['4', '5', '6', '7', '8'],\n",
        "    'first_name': ['Billy', 'Brian', 'Bran', 'Bryce', 'Betty'],\n",
        "    'last_name': ['Bonder', 'Black', 'Balwner', 'Brice', 'Btisan']\n",
        "}\n",
        "df1 = pd.DataFrame(data_df1)\n",
        "df2 = pd.DataFrame(data_df2)\n",
        "merged_df = pd.merge(df1, df2, on='subject_id', how='right', suffixes=('_df1', '_df2'))\n",
        "print(\"Merged DataFrame using right join on subject_id (merged_df):\")\n",
        "print(merged_df)\n"
      ],
      "metadata": {
        "colab": {
          "base_uri": "https://localhost:8080/"
        },
        "id": "YB4FaeeSWC7J",
        "outputId": "102f82ff-8845-4166-b1fe-fc2480041a25"
      },
      "execution_count": null,
      "outputs": [
        {
          "output_type": "stream",
          "name": "stdout",
          "text": [
            "Merged DataFrame using right join on subject_id (merged_df):\n",
            "  subject_id first_name_df1 last_name_df1 first_name_df2 last_name_df2\n",
            "0          4          Alice          Aoni          Billy        Bonder\n",
            "1          5         Ayoung       Atiches          Brian         Black\n",
            "2          6            NaN           NaN           Bran       Balwner\n",
            "3          7            NaN           NaN          Bryce         Brice\n",
            "4          8            NaN           NaN          Betty        Btisan\n"
          ]
        }
      ]
    },
    {
      "cell_type": "markdown",
      "source": [
        "EXERCISE 5.22 Merge dataframe df1 and df2 with LEFT join on subject_id"
      ],
      "metadata": {
        "id": "WYVGFlfuLxXi"
      }
    },
    {
      "cell_type": "code",
      "source": [
        "import pandas as pd\n",
        "\n",
        "data_df1 = {\n",
        "    'subject_id': ['1', '2', '3', '4', '5'],\n",
        "    'first_name': ['Alex', 'Amy', 'Allen', 'Alice', 'Ayoung'],\n",
        "    'last_name': ['Anderson', 'Ackerman', 'Ali', 'Aoni', 'Atiches']\n",
        "}\n",
        "\n",
        "data_df2 = {\n",
        "    'subject_id': ['4', '5', '6', '7', '8'],\n",
        "    'first_name': ['Billy', 'Brian', 'Bran', 'Bryce', 'Betty'],\n",
        "    'last_name': ['Bonder', 'Black', 'Balwner', 'Brice', 'Btisan']\n",
        "}\n",
        "\n",
        "df1 = pd.DataFrame(data_df1)\n",
        "df2 = pd.DataFrame(data_df2)\n",
        "\n",
        "merged_df = pd.merge(df1, df2, on='subject_id', how='left', suffixes=('_df1', '_df2'))\n",
        "\n",
        "print(\"Merged DataFrame using left join on subject_id (merged_df):\")\n",
        "print(merged_df)\n"
      ],
      "metadata": {
        "colab": {
          "base_uri": "https://localhost:8080/"
        },
        "id": "LgxxKJhFLxvQ",
        "outputId": "4da0e25a-5bb5-4ef5-8a3e-f527f5324720"
      },
      "execution_count": null,
      "outputs": [
        {
          "output_type": "stream",
          "name": "stdout",
          "text": [
            "Merged DataFrame using left join on subject_id (merged_df):\n",
            "  subject_id first_name_df1 last_name_df1 first_name_df2 last_name_df2\n",
            "0          1           Alex      Anderson            NaN           NaN\n",
            "1          2            Amy      Ackerman            NaN           NaN\n",
            "2          3          Allen           Ali            NaN           NaN\n",
            "3          4          Alice          Aoni          Billy        Bonder\n",
            "4          5         Ayoung       Atiches          Brian         Black\n"
          ]
        }
      ]
    },
    {
      "cell_type": "markdown",
      "source": [
        "EXERCISE 5.23 Merge df1 and df2 while adding a suffix to duplicate column names on subject_id"
      ],
      "metadata": {
        "id": "Cj-u-bGuLyYI"
      }
    },
    {
      "cell_type": "code",
      "source": [
        "import pandas as pd\n",
        "\n",
        "data_df1 = {\n",
        "    'subject_id': ['1', '2', '3', '4', '5'],\n",
        "    'first_name': ['Alex', 'Amy', 'Allen', 'Alice', 'Ayoung'],\n",
        "    'last_name': ['Anderson', 'Ackerman', 'Ali', 'Aoni', 'Atiches']\n",
        "}\n",
        "\n",
        "data_df2 = {\n",
        "    'subject_id': ['4', '5', '6', '7', '8'],\n",
        "    'first_name': ['Billy', 'Brian', 'Bran', 'Bryce', 'Betty'],\n",
        "    'last_name': ['Bonder', 'Black', 'Balwner', 'Brice', 'Btisan']\n",
        "}\n",
        "\n",
        "df1 = pd.DataFrame(data_df1)\n",
        "df2 = pd.DataFrame(data_df2)\n",
        "\n",
        "merged_df = pd.merge(df1, df2, on='subject_id', how='inner', suffixes=('_df1', '_df2'))\n",
        "\n",
        "print(\"Merged DataFrame with suffixes for duplicate column names (merged_df):\")\n",
        "print(merged_df)\n"
      ],
      "metadata": {
        "colab": {
          "base_uri": "https://localhost:8080/"
        },
        "id": "0tlPysFxLyq5",
        "outputId": "a9e99285-6c7f-4600-a40c-cf05d9f504e0"
      },
      "execution_count": null,
      "outputs": [
        {
          "output_type": "stream",
          "name": "stdout",
          "text": [
            "Merged DataFrame with suffixes for duplicate column names (merged_df):\n",
            "  subject_id first_name_df1 last_name_df1 first_name_df2 last_name_df2\n",
            "0          4          Alice          Aoni          Billy        Bonder\n",
            "1          5         Ayoung       Atiches          Brian         Black\n"
          ]
        }
      ]
    },
    {
      "cell_type": "markdown",
      "source": [
        "EXERCISE 5.24 Merge df1 and df2 ON subject_id based on index attribute"
      ],
      "metadata": {
        "id": "EiGt4KHRLy-J"
      }
    },
    {
      "cell_type": "code",
      "source": [
        "import pandas as pd\n",
        "\n",
        "data_df1 = {\n",
        "    'subject_id': ['1', '2', '3', '4', '5'],\n",
        "    'first_name': ['Alex', 'Amy', 'Allen', 'Alice', 'Ayoung'],\n",
        "    'last_name': ['Anderson', 'Ackerman', 'Ali', 'Aoni', 'Atiches']\n",
        "}\n",
        "\n",
        "data_df2 = {\n",
        "    'subject_id': ['4', '5', '6', '7', '8'],\n",
        "    'first_name': ['Billy', 'Brian', 'Bran', 'Bryce', 'Betty'],\n",
        "    'last_name': ['Bonder', 'Black', 'Balwner', 'Brice', 'Btisan']\n",
        "}\n",
        "\n",
        "df1 = pd.DataFrame(data_df1)\n",
        "df2 = pd.DataFrame(data_df2)\n",
        "\n",
        "df1.set_index('subject_id', inplace=True)\n",
        "df2.set_index('subject_id', inplace=True)\n",
        "\n",
        "merged_df = pd.merge(df1, df2, left_index=True, right_index=True, suffixes=('_df1', '_df2'))\n",
        "\n",
        "print(\"Merged DataFrame based on index attribute (merged_df):\")\n",
        "print(merged_df)\n"
      ],
      "metadata": {
        "colab": {
          "base_uri": "https://localhost:8080/"
        },
        "id": "pE3yu7o1LzOE",
        "outputId": "0f6d3799-3d18-4035-b117-d1cf55c6ad30"
      },
      "execution_count": null,
      "outputs": [
        {
          "output_type": "stream",
          "name": "stdout",
          "text": [
            "Merged DataFrame based on index attribute (merged_df):\n",
            "           first_name_df1 last_name_df1 first_name_df2 last_name_df2\n",
            "subject_id                                                          \n",
            "4                   Alice          Aoni          Billy        Bonder\n",
            "5                  Ayoung       Atiches          Brian         Black\n"
          ]
        }
      ]
    },
    {
      "cell_type": "markdown",
      "source": [
        "EXERCISE 5.25 Create two dataframes d1 and d2 with list as name, id in d1 and marks , age in d2. And then perform join on d1 and d2.Add name as AB,AC,AD id as 1,2,3 subject as C0,C2,C3 and age as 20,19,18 with k1 as K0,K2,K3 in d1 and k2 as K0,K2,K3 in d2\n",
        "\n"
      ],
      "metadata": {
        "id": "2-5oj9oqLzcF"
      }
    },
    {
      "cell_type": "code",
      "source": [
        "import pandas as pd\n",
        "\n",
        "data_d1 = {\n",
        "    'name': ['AB', 'AC', 'AD'],\n",
        "    'id': [1, 2, 3],\n",
        "    'k1': ['K0', 'K2', 'K3']\n",
        "}\n",
        "\n",
        "data_d2 = {\n",
        "    'subject': ['C0', 'C2', 'C3'],\n",
        "    'age': [20, 19, 18],\n",
        "    'k2': ['K0', 'K2', 'K3']\n",
        "}\n",
        "\n",
        "d1 = pd.DataFrame(data_d1)\n",
        "d2 = pd.DataFrame(data_d2)\n",
        "\n",
        "d1.set_index('k1', inplace=True)\n",
        "d2.set_index('k2', inplace=True)\n",
        "\n",
        "joined_df = d1.join(d2)\n",
        "\n",
        "print(\"Joined DataFrame (joined_df):\")\n",
        "print(joined_df)\n"
      ],
      "metadata": {
        "colab": {
          "base_uri": "https://localhost:8080/"
        },
        "id": "bKBZdTPaLzvq",
        "outputId": "715d2e6b-19dc-4362-c130-8691454c3f62"
      },
      "execution_count": null,
      "outputs": [
        {
          "output_type": "stream",
          "name": "stdout",
          "text": [
            "Joined DataFrame (joined_df):\n",
            "   name  id subject  age\n",
            "k1                      \n",
            "K0   AB   1      C0   20\n",
            "K2   AC   2      C2   19\n",
            "K3   AD   3      C3   18\n"
          ]
        }
      ]
    },
    {
      "cell_type": "markdown",
      "source": [
        "EXERCISE 5.26 use the dataframes created above and perform Outer join on them\n",
        "\n"
      ],
      "metadata": {
        "id": "ven-rwQULzfT"
      }
    },
    {
      "cell_type": "code",
      "source": [
        "import pandas as pd\n",
        "\n",
        "data_d1 = {\n",
        "    'name': ['AB', 'AC', 'AD'],\n",
        "    'id': [1, 2, 3],\n",
        "    'k1': ['K0', 'K2', 'K3']\n",
        "}\n",
        "\n",
        "data_d2 = {\n",
        "    'subject': ['C0', 'C2', 'C3'],\n",
        "    'age': [20, 19, 18],\n",
        "    'k2': ['K0', 'K2', 'K3']\n",
        "}\n",
        "\n",
        "d1 = pd.DataFrame(data_d1)\n",
        "d2 = pd.DataFrame(data_d2)\n",
        "\n",
        "merged_df = pd.merge(d1, d2, left_on='k1', right_on='k2', how='outer', suffixes=('_d1', '_d2'))\n",
        "\n",
        "print(\"Merged DataFrame using outer join (merged_df):\")\n",
        "print(merged_df)\n"
      ],
      "metadata": {
        "colab": {
          "base_uri": "https://localhost:8080/"
        },
        "id": "LkmoWqhoL0RP",
        "outputId": "bd9b75b7-0c9c-4d80-f57e-23b43f3e5ca3"
      },
      "execution_count": null,
      "outputs": [
        {
          "output_type": "stream",
          "name": "stdout",
          "text": [
            "Merged DataFrame using outer join (merged_df):\n",
            "  name  id  k1 subject  age  k2\n",
            "0   AB   1  K0      C0   20  K0\n",
            "1   AC   2  K2      C2   19  K2\n",
            "2   AD   3  K3      C3   18  K3\n"
          ]
        }
      ]
    },
    {
      "cell_type": "markdown",
      "source": [
        "EXERCISE 5.27 Use the dataframes d1 and d2 and perform inner join on them\n",
        "\n"
      ],
      "metadata": {
        "id": "CTNCRYb_L0h5"
      }
    },
    {
      "cell_type": "code",
      "source": [
        "import pandas as pd\n",
        "\n",
        "data_d1 = {\n",
        "    'name': ['AB', 'AC', 'AD'],\n",
        "    'id': [1, 2, 3],\n",
        "    'k1': ['K0', 'K2', 'K3']\n",
        "}\n",
        "\n",
        "data_d2 = {\n",
        "    'subject': ['C0', 'C2', 'C3'],\n",
        "    'age': [20, 19, 18],\n",
        "    'k2': ['K0', 'K2', 'K3']\n",
        "}\n",
        "\n",
        "d1 = pd.DataFrame(data_d1)\n",
        "d2 = pd.DataFrame(data_d2)\n",
        "\n",
        "merged_df = pd.merge(d1, d2, left_on='k1', right_on='k2', how='inner', suffixes=('_d1', '_d2'))\n",
        "\n",
        "print(\"Merged DataFrame using inner join (merged_df):\")\n",
        "print(merged_df)\n"
      ],
      "metadata": {
        "colab": {
          "base_uri": "https://localhost:8080/"
        },
        "id": "6RZhinrOL0z4",
        "outputId": "e596571a-98e1-474e-acb7-7046333f603f"
      },
      "execution_count": null,
      "outputs": [
        {
          "output_type": "stream",
          "name": "stdout",
          "text": [
            "Merged DataFrame using inner join (merged_df):\n",
            "  name  id  k1 subject  age  k2\n",
            "0   AB   1  K0      C0   20  K0\n",
            "1   AC   2  K2      C2   19  K2\n",
            "2   AD   3  K3      C3   18  K3\n"
          ]
        }
      ]
    },
    {
      "cell_type": "markdown",
      "source": [
        "EXERCISE 5.28 Perform join on d1 and d2 w.r.t. column 'name'\n",
        "\n"
      ],
      "metadata": {
        "id": "yJCIcPM3L1C-"
      }
    },
    {
      "cell_type": "code",
      "source": [
        "import pandas as pd\n",
        "\n",
        "data_d1 = {\n",
        "    'name': ['AB', 'AC', 'AD'],\n",
        "    'id': [1, 2, 3],\n",
        "    'k1': ['K0', 'K2', 'K3']\n",
        "}\n",
        "\n",
        "data_d2 = {\n",
        "    'subject': ['C0', 'C2', 'C3'],\n",
        "    'age': [20, 19, 18],\n",
        "    'k2': ['K0', 'K2', 'K3'],\n",
        "    'name': ['AB', 'AC', 'AD']\n",
        "}\n",
        "\n",
        "d1 = pd.DataFrame(data_d1)\n",
        "d2 = pd.DataFrame(data_d2)\n",
        "\n",
        "joined_df = pd.merge(d1, d2, on='name', suffixes=('_d1', '_d2'))\n",
        "\n",
        "print(\"Joined DataFrame with respect to the column 'name' (joined_df):\")\n",
        "print(joined_df)\n"
      ],
      "metadata": {
        "colab": {
          "base_uri": "https://localhost:8080/"
        },
        "id": "ETsURUIxL1TI",
        "outputId": "41c33238-a697-4294-f116-f19256ffb34e"
      },
      "execution_count": null,
      "outputs": [
        {
          "output_type": "stream",
          "name": "stdout",
          "text": [
            "Joined DataFrame with respect to the column 'name' (joined_df):\n",
            "  name  id  k1 subject  age  k2\n",
            "0   AB   1  K0      C0   20  K0\n",
            "1   AC   2  K2      C2   19  K2\n",
            "2   AD   3  K3      C3   18  K3\n"
          ]
        }
      ]
    },
    {
      "cell_type": "markdown",
      "source": [
        "EXERCISE 5.29 Add two elements in d1- k1 and k3 and then create a multiindex i and then perform join on d1 and d2 w.r.t k1 and k3"
      ],
      "metadata": {
        "id": "dmZFxjgOL1jQ"
      }
    },
    {
      "cell_type": "code",
      "source": [
        "import pandas as pd\n",
        "\n",
        "data_d1 = {\n",
        "    'name': ['AB', 'AC', 'AD', 'AE'],\n",
        "    'id': [1, 2, 3, 4],\n",
        "    'k1': ['K0', 'K2', 'K3', 'K4'],\n",
        "    'k3': ['M0', 'M2', 'M3', 'M4']\n",
        "}\n",
        "\n",
        "data_d2 = {\n",
        "    'subject': ['C0', 'C2', 'C3'],\n",
        "    'age': [20, 19, 18],\n",
        "    'k1': ['K0', 'K2', 'K3'] # Changed 'k2' to 'k1' to match the index name in d1\n",
        "}\n",
        "\n",
        "d1 = pd.DataFrame(data_d1)\n",
        "d2 = pd.DataFrame(data_d2)\n",
        "\n",
        "d1.set_index(['k1', 'k3'], inplace=True)\n",
        "d2.set_index('k1', inplace=True) # Use 'k1' as the index for d2\n",
        "\n",
        "joined_df = d1.join(d2, how='left')\n",
        "print(\"Joined DataFrame with respect to multi-index 'k1' and 'k3' (joined_df):\")\n",
        "print(joined_df)\n"
      ],
      "metadata": {
        "colab": {
          "base_uri": "https://localhost:8080/"
        },
        "id": "AZom8rj5L1y5",
        "outputId": "0aabce1c-eb88-450b-e057-11fcf3dd74aa"
      },
      "execution_count": null,
      "outputs": [
        {
          "output_type": "stream",
          "name": "stdout",
          "text": [
            "Joined DataFrame with respect to multi-index 'k1' and 'k3' (joined_df):\n",
            "      name  id subject   age\n",
            "k1 k3                       \n",
            "K0 M0   AB   1      C0  20.0\n",
            "K2 M2   AC   2      C2  19.0\n",
            "K3 M3   AD   3      C3  18.0\n",
            "K4 M4   AE   4     NaN   NaN\n"
          ]
        }
      ]
    },
    {
      "cell_type": "markdown",
      "source": [
        "EXERCISE 5.30 create a dataframe d3 with elements as 'clg' and 'index' and then perform join on d1,d2,d3"
      ],
      "metadata": {
        "id": "yblsy04rL2Ch"
      }
    },
    {
      "cell_type": "code",
      "source": [
        "import pandas as pd\n",
        "\n",
        "data_d1 = {\n",
        "    'name': ['AB', 'AC', 'AD', 'AE'],\n",
        "    'id': [1, 2, 3, 4],\n",
        "    'k1': ['K0', 'K2', 'K3', 'K4'],\n",
        "    'k3': ['M0', 'M2', 'M3', 'M4']\n",
        "}\n",
        "\n",
        "data_d2 = {\n",
        "    'subject': ['C0', 'C2', 'C3'],\n",
        "    'age': [20, 19, 18],\n",
        "    'k2': ['K0', 'K2', 'K3']\n",
        "}\n",
        "\n",
        "data_d3 = {\n",
        "    'clg': ['A', 'B', 'C', 'D'],\n",
        "    'index': [0, 1, 2, 3]\n",
        "}\n",
        "\n",
        "d1 = pd.DataFrame(data_d1)\n",
        "d2 = pd.DataFrame(data_d2)\n",
        "d3 = pd.DataFrame(data_d3)\n",
        "\n",
        "joined_df = pd.merge(pd.merge(d1, d2, left_on='k1', right_on='k2', how='outer'),\n",
        "                     d3, left_index=True, right_index=True)\n",
        "\n",
        "print(\"Joined DataFrame with d1, d2, and d3:\")\n",
        "print(joined_df)\n"
      ],
      "metadata": {
        "colab": {
          "base_uri": "https://localhost:8080/"
        },
        "id": "bOyhpM3mL2SJ",
        "outputId": "d3f518a4-781a-4cd6-ddd3-fabab7974085"
      },
      "execution_count": null,
      "outputs": [
        {
          "output_type": "stream",
          "name": "stdout",
          "text": [
            "Joined DataFrame with d1, d2, and d3:\n",
            "  name  id  k1  k3 subject   age   k2 clg  index\n",
            "0   AB   1  K0  M0      C0  20.0   K0   A      0\n",
            "1   AC   2  K2  M2      C2  19.0   K2   B      1\n",
            "2   AD   3  K3  M3      C3  18.0   K3   C      2\n",
            "3   AE   4  K4  M4     NaN   NaN  NaN   D      3\n"
          ]
        }
      ]
    },
    {
      "cell_type": "markdown",
      "source": [
        "EXERCISE 5.31 Perform join on d1 and d2 with column name appended with a value as l and r"
      ],
      "metadata": {
        "id": "GiGiA-zIL2i0"
      }
    },
    {
      "cell_type": "code",
      "source": [
        "import pandas as pd\n",
        "\n",
        "data_d1 = {\n",
        "    'name': ['AB', 'AC', 'AD', 'AE'],\n",
        "    'id': [1, 2, 3, 4],\n",
        "    'k1': ['K0', 'K2', 'K3', 'K4'],\n",
        "    'k3': ['M0', 'M2', 'M3', 'M4']\n",
        "}\n",
        "\n",
        "data_d2 = {\n",
        "    'subject': ['C0', 'C2', 'C3'],\n",
        "    'age': [20, 19, 18],\n",
        "    'k2': ['K0', 'K2', 'K3']\n",
        "}\n",
        "\n",
        "d1 = pd.DataFrame(data_d1)\n",
        "d2 = pd.DataFrame(data_d2)\n",
        "\n",
        "joined_df = pd.merge(d1, d2, left_on='k1', right_on='k2', how='outer', suffixes=('_l', '_r'))\n",
        "\n",
        "print(\"Joined DataFrame with column names appended with 'l' and 'r' (joined_df):\")\n",
        "print(joined_df)\n"
      ],
      "metadata": {
        "id": "QN6eKVy5L22V",
        "colab": {
          "base_uri": "https://localhost:8080/"
        },
        "outputId": "ab9a37b8-21a6-41fd-cec3-9a51d1167160"
      },
      "execution_count": 11,
      "outputs": [
        {
          "output_type": "stream",
          "name": "stdout",
          "text": [
            "Joined DataFrame with column names appended with 'l' and 'r' (joined_df):\n",
            "  name  id  k1  k3 subject   age   k2\n",
            "0   AB   1  K0  M0      C0  20.0   K0\n",
            "1   AC   2  K2  M2      C2  19.0   K2\n",
            "2   AD   3  K3  M3      C3  18.0   K3\n",
            "3   AE   4  K4  M4     NaN   NaN  NaN\n"
          ]
        }
      ]
    }
  ]
}