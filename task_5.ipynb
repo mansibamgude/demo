{
  "nbformat": 4,
  "nbformat_minor": 0,
  "metadata": {
    "colab": {
      "provenance": [],
      "authorship_tag": "ABX9TyNVY7owAZ9y1lB7pvGfLZzU",
      "include_colab_link": true
    },
    "kernelspec": {
      "name": "python3",
      "display_name": "Python 3"
    },
    "language_info": {
      "name": "python"
    }
  },
  "cells": [
    {
      "cell_type": "markdown",
      "metadata": {
        "id": "view-in-github",
        "colab_type": "text"
      },
      "source": [
        "<a href=\"https://colab.research.google.com/github/mansibamgude/demo/blob/main/task_5.ipynb\" target=\"_parent\"><img src=\"https://colab.research.google.com/assets/colab-badge.svg\" alt=\"Open In Colab\"/></a>"
      ]
    },
    {
      "cell_type": "code",
      "execution_count": null,
      "metadata": {
        "id": "z4DgibpAmbIE",
        "outputId": "56388022-ecfe-4ecd-9ad8-265880223d4d",
        "colab": {
          "base_uri": "https://localhost:8080/"
        }
      },
      "outputs": [
        {
          "output_type": "stream",
          "name": "stdout",
          "text": [
            "Left Merge:\n",
            "   key  value1  value2\n",
            "0   A       1     NaN\n",
            "1   B       2     4.0\n",
            "2   C       3     5.0\n",
            "Right Merge:\n",
            "   key  value1  value2\n",
            "0   B     2.0       4\n",
            "1   C     3.0       5\n",
            "2   D     NaN       6\n",
            "Inner Merge:\n",
            "   key  value1  value2\n",
            "0   B       2       4\n",
            "1   C       3       5\n",
            "Outer Merge:\n",
            "   key  value1  value2\n",
            "0   A     1.0     NaN\n",
            "1   B     2.0     4.0\n",
            "2   C     3.0     5.0\n",
            "3   D     NaN     6.0\n",
            "Merge on Key:\n",
            "   key  value1  value2\n",
            "0   B       2       4\n",
            "1   C       3       5\n",
            "Merge on Multiple Keys:\n",
            "   key1 key2  value1  value2\n",
            "0    A    X       1       4\n",
            "1    B    Y       2       5\n",
            "Concatenation:\n",
            "   key  value1  value2\n",
            "0   A     1.0     NaN\n",
            "1   B     2.0     NaN\n",
            "2   C     3.0     NaN\n",
            "3   B     NaN     4.0\n",
            "4   C     NaN     5.0\n",
            "5   D     NaN     6.0\n"
          ]
        }
      ],
      "source": [
        "import pandas as pd\n",
        "\n",
        "# Sample DataFrames\n",
        "df1 = pd.DataFrame({\n",
        "    'key': ['A', 'B', 'C'],\n",
        "    'value1': [1, 2, 3]\n",
        "})\n",
        "\n",
        "df2 = pd.DataFrame({\n",
        "    'key': ['B', 'C', 'D'],\n",
        "    'value2': [4, 5, 6]\n",
        "})\n",
        "\n",
        "# 1. Left Merge\n",
        "left_merge = pd.merge(df1, df2, how='left', on='key')\n",
        "print(\"Left Merge:\\n\", left_merge)\n",
        "\n",
        "# 2. Right Merge\n",
        "right_merge = pd.merge(df1, df2, how='right', on='key')\n",
        "print(\"Right Merge:\\n\", right_merge)\n",
        "\n",
        "# 3. Inner Merge\n",
        "inner_merge = pd.merge(df1, df2, how='inner', on='key')\n",
        "print(\"Inner Merge:\\n\", inner_merge)\n",
        "\n",
        "# 4. Outer Merge\n",
        "outer_merge = pd.merge(df1, df2, how='outer', on='key')\n",
        "print(\"Outer Merge:\\n\", outer_merge)\n",
        "\n",
        "# 5. Merge on a Key\n",
        "merge_on_key = pd.merge(df1, df2, on='key')\n",
        "print(\"Merge on Key:\\n\", merge_on_key)\n",
        "\n",
        "# Additional DataFrames for multiple keys merge example\n",
        "df3 = pd.DataFrame({\n",
        "    'key1': ['A', 'B', 'C'],\n",
        "    'key2': ['X', 'Y', 'Z'],\n",
        "    'value1': [1, 2, 3]\n",
        "})\n",
        "\n",
        "df4 = pd.DataFrame({\n",
        "    'key1': ['A', 'B', 'C'],\n",
        "    'key2': ['X', 'Y', 'W'],\n",
        "    'value2': [4, 5, 6]\n",
        "})\n",
        "\n",
        "# 6. Merge on Multiple Keys\n",
        "merge_on_multiple_keys = pd.merge(df3, df4, on=['key1', 'key2'])\n",
        "print(\"Merge on Multiple Keys:\\n\", merge_on_multiple_keys)\n",
        "\n",
        "# 7. Concatenation\n",
        "concat_df = pd.concat([df1, df2], ignore_index=True)\n",
        "print(\"Concatenation:\\n\", concat_df)\n"
      ]
    }
  ]
}